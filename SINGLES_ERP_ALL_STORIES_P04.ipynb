{
 "cells": [
  {
   "cell_type": "code",
   "execution_count": 1,
   "metadata": {},
   "outputs": [],
   "source": [
    "import os\n",
    "import nltk\n",
    "import pandas as pd\n",
    "import matplotlib.pyplot as plt\n",
    "import mne\n",
    "import numpy as np\n",
    "from scipy.io import loadmat"
   ]
  },
  {
   "cell_type": "code",
   "execution_count": 4,
   "metadata": {},
   "outputs": [],
   "source": [
    "#Load \n",
    "onsets = loadmat(\"/Users/lovira/Desktop/402/402Folder/Main/Data/Stimuli/all_katerina_onsets.mat\")['onsets']\n",
    "path_to_text = \"/Users/lovira/Desktop/402/402Folder/Main/Data/Stimuli\"\n",
    "\n",
    "story_files = [f for f in os.listdir(path_to_text) if f.endswith('csv')]\n",
    "\n",
    "data_dir = \"/Users/lovira/Desktop/402/402Folder/Main/Data/EEG\"\n",
    "eeg_file = [f for f in os.listdir(data_dir) if f.endswith('set')]"
   ]
  },
  {
   "cell_type": "code",
   "execution_count": 5,
   "metadata": {},
   "outputs": [
    {
     "name": "stdout",
     "output_type": "stream",
     "text": [
      "EEG channel type selected for re-referencing\n",
      "Applying average reference.\n",
      "Applying a custom EEG reference.\n"
     ]
    },
    {
     "name": "stderr",
     "output_type": "stream",
     "text": [
      "<ipython-input-5-3a9198b6268e>:1: RuntimeWarning: The data contains 'boundary' events, indicating data discontinuities. Be cautious of filtering and epoching around these events.\n",
      "  raw = mne.io.read_raw_eeglab(os.path.join(data_dir, eeg_file[3]), preload=True)\n"
     ]
    }
   ],
   "source": [
    "raw = mne.io.read_raw_eeglab(os.path.join(data_dir, eeg_file[3]), preload=True) \n",
    "raw = raw.set_eeg_reference() \n",
    "raw = raw.filter(1, 10, n_jobs=-1, verbose=False)"
   ]
  },
  {
   "cell_type": "code",
   "execution_count": 6,
   "metadata": {},
   "outputs": [],
   "source": [
    "all_events = []\n",
    "for k, story in enumerate(story_files):\n",
    "    try:\n",
    "        df = pd.read_csv(os.path.join(path_to_text, story))\n",
    "    except:\n",
    "        continue\n",
    "    tags = [pos for w, pos in nltk.pos_tag(df.word)]\n",
    "    df['POS'] = tags\n",
    "\n",
    "    # Nouns\n",
    "    samples_NN = raw.time_as_index(df.loc[df.POS =='NN', 'onset'].values + onsets[3, k]) \n",
    "    id_column_NN = np.ones_like(samples_NN)\n",
    "    duration_column_NN = np.zeros_like(samples_NN)\n",
    "\n",
    "    # Adjectives\n",
    "    samples_JJ = raw.time_as_index(df.loc[df.POS == 'JJ', 'onset'].values + onsets [3, k])\n",
    "    id_column_JJ = np.full_like(samples_JJ, 2)\n",
    "    duration_column_JJ = np.zeros_like(samples_JJ)\n",
    "\n",
    "\n",
    "    events_NN = np.array([samples_NN, duration_column_NN, id_column_NN])\n",
    "    events_JJ= np.array([samples_JJ,duration_column_JJ, id_column_JJ])\n",
    "    \n",
    "    event_one_story = np.hstack((events_NN, events_JJ)).T\n",
    "    all_events.append(event_one_story)\n",
    "    \n",
    "\n",
    "\n",
    "event_id = {'noun': 1, 'adjective': 2}\n",
    "events = np.vstack(all_events)"
   ]
  },
  {
   "cell_type": "code",
   "execution_count": 8,
   "metadata": {},
   "outputs": [
    {
     "ename": "RuntimeError",
     "evalue": "Event time samples were not unique. Consider setting the `event_repeated` parameter.\"",
     "output_type": "error",
     "traceback": [
      "\u001b[0;31m---------------------------------------------------------------------------\u001b[0m",
      "\u001b[0;31mRuntimeError\u001b[0m                              Traceback (most recent call last)",
      "\u001b[0;32m<ipython-input-8-8f69b5e3d203>\u001b[0m in \u001b[0;36m<module>\u001b[0;34m\u001b[0m\n\u001b[1;32m      1\u001b[0m \u001b[0;31m# Epochs and Averaging\u001b[0m\u001b[0;34m\u001b[0m\u001b[0;34m\u001b[0m\u001b[0;34m\u001b[0m\u001b[0m\n\u001b[0;32m----> 2\u001b[0;31m \u001b[0mepochs\u001b[0m \u001b[0;34m=\u001b[0m \u001b[0mmne\u001b[0m\u001b[0;34m.\u001b[0m\u001b[0mEpochs\u001b[0m\u001b[0;34m(\u001b[0m\u001b[0mraw\u001b[0m\u001b[0;34m,\u001b[0m \u001b[0mevents\u001b[0m\u001b[0;34m,\u001b[0m \u001b[0mevent_id\u001b[0m\u001b[0;34m)\u001b[0m\u001b[0;34m\u001b[0m\u001b[0;34m\u001b[0m\u001b[0m\n\u001b[0m\u001b[1;32m      3\u001b[0m \u001b[0mevoked_nn\u001b[0m \u001b[0;34m=\u001b[0m \u001b[0mepochs\u001b[0m\u001b[0;34m[\u001b[0m\u001b[0;34m'noun'\u001b[0m\u001b[0;34m]\u001b[0m\u001b[0;34m.\u001b[0m\u001b[0maverage\u001b[0m\u001b[0;34m(\u001b[0m\u001b[0;34m)\u001b[0m\u001b[0;34m\u001b[0m\u001b[0;34m\u001b[0m\u001b[0m\n\u001b[1;32m      4\u001b[0m \u001b[0mevoked_adj\u001b[0m \u001b[0;34m=\u001b[0m \u001b[0mepochs\u001b[0m\u001b[0;34m[\u001b[0m\u001b[0;34m'adjective'\u001b[0m\u001b[0;34m]\u001b[0m\u001b[0;34m.\u001b[0m\u001b[0maverage\u001b[0m\u001b[0;34m(\u001b[0m\u001b[0;34m)\u001b[0m\u001b[0;34m\u001b[0m\u001b[0;34m\u001b[0m\u001b[0m\n\u001b[1;32m      5\u001b[0m \u001b[0;34m\u001b[0m\u001b[0m\n",
      "\u001b[0;32m<decorator-gen-184>\u001b[0m in \u001b[0;36m__init__\u001b[0;34m(self, raw, events, event_id, tmin, tmax, baseline, picks, preload, reject, flat, proj, decim, reject_tmin, reject_tmax, detrend, on_missing, reject_by_annotation, metadata, event_repeated, verbose)\u001b[0m\n",
      "\u001b[0;32m~/anaconda3/lib/python3.7/site-packages/mne/epochs.py\u001b[0m in \u001b[0;36m__init__\u001b[0;34m(self, raw, events, event_id, tmin, tmax, baseline, picks, preload, reject, flat, proj, decim, reject_tmin, reject_tmax, detrend, on_missing, reject_by_annotation, metadata, event_repeated, verbose)\u001b[0m\n\u001b[1;32m   2093\u001b[0m             \u001b[0mreject_tmax\u001b[0m\u001b[0;34m=\u001b[0m\u001b[0mreject_tmax\u001b[0m\u001b[0;34m,\u001b[0m \u001b[0mdetrend\u001b[0m\u001b[0;34m=\u001b[0m\u001b[0mdetrend\u001b[0m\u001b[0;34m,\u001b[0m\u001b[0;34m\u001b[0m\u001b[0;34m\u001b[0m\u001b[0m\n\u001b[1;32m   2094\u001b[0m             \u001b[0mproj\u001b[0m\u001b[0;34m=\u001b[0m\u001b[0mproj\u001b[0m\u001b[0;34m,\u001b[0m \u001b[0mon_missing\u001b[0m\u001b[0;34m=\u001b[0m\u001b[0mon_missing\u001b[0m\u001b[0;34m,\u001b[0m \u001b[0mpreload_at_end\u001b[0m\u001b[0;34m=\u001b[0m\u001b[0mpreload\u001b[0m\u001b[0;34m,\u001b[0m\u001b[0;34m\u001b[0m\u001b[0;34m\u001b[0m\u001b[0m\n\u001b[0;32m-> 2095\u001b[0;31m             event_repeated=event_repeated, verbose=verbose)\n\u001b[0m\u001b[1;32m   2096\u001b[0m \u001b[0;34m\u001b[0m\u001b[0m\n\u001b[1;32m   2097\u001b[0m     \u001b[0;34m@\u001b[0m\u001b[0mverbose\u001b[0m\u001b[0;34m\u001b[0m\u001b[0;34m\u001b[0m\u001b[0m\n",
      "\u001b[0;32m<decorator-gen-175>\u001b[0m in \u001b[0;36m__init__\u001b[0;34m(self, info, data, events, event_id, tmin, tmax, baseline, raw, picks, reject, flat, decim, reject_tmin, reject_tmax, detrend, proj, on_missing, preload_at_end, selection, drop_log, filename, metadata, event_repeated, verbose)\u001b[0m\n",
      "\u001b[0;32m~/anaconda3/lib/python3.7/site-packages/mne/epochs.py\u001b[0m in \u001b[0;36m__init__\u001b[0;34m(***failed resolving arguments***)\u001b[0m\n\u001b[1;32m    438\u001b[0m             \u001b[0mevents\u001b[0m\u001b[0;34m,\u001b[0m \u001b[0mself\u001b[0m\u001b[0;34m.\u001b[0m\u001b[0mevent_id\u001b[0m\u001b[0;34m,\u001b[0m \u001b[0mself\u001b[0m\u001b[0;34m.\u001b[0m\u001b[0mselection\u001b[0m\u001b[0;34m,\u001b[0m \u001b[0mself\u001b[0m\u001b[0;34m.\u001b[0m\u001b[0mdrop_log\u001b[0m \u001b[0;34m=\u001b[0m\u001b[0;31m \u001b[0m\u001b[0;31m\\\u001b[0m\u001b[0;34m\u001b[0m\u001b[0;34m\u001b[0m\u001b[0m\n\u001b[1;32m    439\u001b[0m                 _handle_event_repeated(events, self.event_id, event_repeated,\n\u001b[0;32m--> 440\u001b[0;31m                                        self.selection, self.drop_log)\n\u001b[0m\u001b[1;32m    441\u001b[0m \u001b[0;34m\u001b[0m\u001b[0m\n\u001b[1;32m    442\u001b[0m             \u001b[0mn_events\u001b[0m \u001b[0;34m=\u001b[0m \u001b[0mlen\u001b[0m\u001b[0;34m(\u001b[0m\u001b[0mevents\u001b[0m\u001b[0;34m)\u001b[0m\u001b[0;34m\u001b[0m\u001b[0;34m\u001b[0m\u001b[0m\n",
      "\u001b[0;32m~/anaconda3/lib/python3.7/site-packages/mne/epochs.py\u001b[0m in \u001b[0;36m_handle_event_repeated\u001b[0;34m(events, event_id, event_repeated, selection, drop_log)\u001b[0m\n\u001b[1;32m    274\u001b[0m     \u001b[0m_check_option\u001b[0m\u001b[0;34m(\u001b[0m\u001b[0;34m'event_repeated'\u001b[0m\u001b[0;34m,\u001b[0m \u001b[0mevent_repeated\u001b[0m\u001b[0;34m,\u001b[0m \u001b[0;34m[\u001b[0m\u001b[0;34m'error'\u001b[0m\u001b[0;34m,\u001b[0m \u001b[0;34m'drop'\u001b[0m\u001b[0;34m,\u001b[0m \u001b[0;34m'merge'\u001b[0m\u001b[0;34m]\u001b[0m\u001b[0;34m)\u001b[0m\u001b[0;34m\u001b[0m\u001b[0;34m\u001b[0m\u001b[0m\n\u001b[1;32m    275\u001b[0m     \u001b[0;32mif\u001b[0m \u001b[0mevent_repeated\u001b[0m \u001b[0;34m==\u001b[0m \u001b[0;34m'error'\u001b[0m\u001b[0;34m:\u001b[0m\u001b[0;34m\u001b[0m\u001b[0;34m\u001b[0m\u001b[0m\n\u001b[0;32m--> 276\u001b[0;31m         raise RuntimeError('Event time samples were not unique. Consider '\n\u001b[0m\u001b[1;32m    277\u001b[0m                            'setting the `event_repeated` parameter.\"')\n\u001b[1;32m    278\u001b[0m \u001b[0;34m\u001b[0m\u001b[0m\n",
      "\u001b[0;31mRuntimeError\u001b[0m: Event time samples were not unique. Consider setting the `event_repeated` parameter.\""
     ]
    }
   ],
   "source": [
    "# Epochs and Averaging\n",
    "epochs = mne.Epochs(raw, events, event_id)\n",
    "evoked_nn = epochs['noun'].average()\n",
    "evoked_adj = epochs['adjective'].average()\n",
    "\n",
    "\n",
    "#Plots\n",
    "evoked_nn.plot_joint(times=[0.15, 0.3], title='NOUN ERP'); \n",
    "evoked_adj.plot_joint(times=[0.1, 0.4], title='ADJ ERP');"
   ]
  },
  {
   "cell_type": "code",
   "execution_count": null,
   "metadata": {},
   "outputs": [],
   "source": []
  }
 ],
 "metadata": {
  "kernelspec": {
   "display_name": "Python 3",
   "language": "python",
   "name": "python3"
  },
  "language_info": {
   "codemirror_mode": {
    "name": "ipython",
    "version": 3
   },
   "file_extension": ".py",
   "mimetype": "text/x-python",
   "name": "python",
   "nbconvert_exporter": "python",
   "pygments_lexer": "ipython3",
   "version": "3.7.3"
  }
 },
 "nbformat": 4,
 "nbformat_minor": 2
}
